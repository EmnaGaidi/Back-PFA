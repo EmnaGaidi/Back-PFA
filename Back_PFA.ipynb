{
  "nbformat": 4,
  "nbformat_minor": 0,
  "metadata": {
    "colab": {
      "provenance": [],
      "include_colab_link": true
    },
    "kernelspec": {
      "name": "python3",
      "display_name": "Python 3"
    },
    "language_info": {
      "name": "python"
    }
  },
  "cells": [
    {
      "cell_type": "markdown",
      "metadata": {
        "id": "view-in-github",
        "colab_type": "text"
      },
      "source": [
        "<a href=\"https://colab.research.google.com/github/EmnaGaidi/Back-PFA/blob/main/Back_PFA.ipynb\" target=\"_parent\"><img src=\"https://colab.research.google.com/assets/colab-badge.svg\" alt=\"Open In Colab\"/></a>"
      ]
    },
    {
      "cell_type": "code",
      "source": [
        "from google.colab import drive\n",
        "drive.mount('/content/drive')"
      ],
      "metadata": {
        "colab": {
          "base_uri": "https://localhost:8080/"
        },
        "id": "fqRmnyie20KA",
        "outputId": "16d966d8-cb74-45c4-c234-2ba86cfb7504"
      },
      "execution_count": null,
      "outputs": [
        {
          "output_type": "stream",
          "name": "stdout",
          "text": [
            "Mounted at /content/drive\n"
          ]
        }
      ]
    },
    {
      "cell_type": "markdown",
      "source": [
        "# Preprocessing"
      ],
      "metadata": {
        "id": "rmWuucQm2wZl"
      }
    },
    {
      "cell_type": "code",
      "execution_count": null,
      "metadata": {
        "id": "BpT5hCGf2Q_O"
      },
      "outputs": [],
      "source": [
        "contraction_mapping = {\"ain't\": \"is not\", \"aren't\": \"are not\",\"can't\": \"cannot\", \"'cause\": \"because\", \"could've\": \"could have\", \"couldn't\": \"could not\",\n",
        "                       \"didn't\": \"did not\",  \"doesn't\": \"does not\", \"don't\": \"do not\", \"hadn't\": \"had not\", \"hasn't\": \"has not\", \"haven't\": \"have not\",\n",
        "                       \"he'd\": \"he would\",\"he'll\": \"he will\", \"he's\": \"he is\", \"how'd\": \"how did\", \"how'd'y\": \"how do you\", \"how'll\": \"how will\",\n",
        "                       \"how's\": \"how is\",  \"I'd\": \"I would\", \"I'd've\": \"I would have\", \"I'll\": \"I will\", \"I'll've\": \"I will have\",\"I'm\": \"I am\",\n",
        "                       \"I've\": \"I have\", \"i'd\": \"i would\", \"i'd've\": \"i would have\", \"i'll\": \"i will\",  \"i'll've\": \"i will have\",\"i'm\": \"i am\",  \"i've\": \"i have\", \"isn't\": \"is not\", \"it'd\": \"it would\", \"it'd've\": \"it would have\", \"it'll\": \"it will\", \"it'll've\": \"it will have\",\n",
        "                       \"it's\": \"it is\", \"let's\": \"let us\", \"ma'am\": \"madam\", \"mayn't\": \"may not\", \"might've\": \"might have\",\"mightn't\": \"might not\",\n",
        "                       \"mightn't've\": \"might not have\", \"must've\": \"must have\", \"mustn't\": \"must not\", \"mustn't've\": \"must not have\", \"needn't\": \"need not\",\n",
        "                       \"needn't've\": \"need not have\",\"o'clock\": \"of the clock\", \"oughtn't\": \"ought not\", \"oughtn't've\": \"ought not have\", \"shan't\": \"shall not\",\n",
        "                       \"sha'n't\": \"shall not\", \"shan't've\": \"shall not have\", \"she'd\": \"she would\", \"she'd've\": \"she would have\", \"she'll\": \"she will\",\n",
        "                       \"she'll've\": \"she will have\", \"she's\": \"she is\", \"should've\": \"should have\", \"shouldn't\": \"should not\", \"shouldn't've\": \"should not have\",\n",
        "                       \"so've\": \"so have\",\"so's\": \"so as\", \"this's\": \"this is\",\"that'd\": \"that would\", \"that'd've\": \"that would have\", \"that's\": \"that is\",\n",
        "                       \"there'd\": \"there would\", \"there'd've\": \"there would have\", \"there's\": \"there is\", \"here's\": \"here is\",\"they'd\": \"they would\",\n",
        "                       \"they'd've\": \"they would have\", \"they'll\": \"they will\", \"they'll've\": \"they will have\", \"they're\": \"they are\", \"they've\": \"they have\",\n",
        "                       \"to've\": \"to have\", \"wasn't\": \"was not\", \"we'd\": \"we would\", \"we'd've\": \"we would have\", \"we'll\": \"we will\", \"we'll've\": \"we will have\",\n",
        "                       \"we're\": \"we are\", \"we've\": \"we have\",\"weren't\": \"were not\", \"what'll\": \"what will\", \"what'll've\": \"what will have\",\n",
        "                       \"what're\": \"what are\",  \"what's\": \"what is\", \"what've\": \"what have\", \"when's\": \"when is\", \"when've\": \"when have\", \"where'd\": \"where did\",\n",
        "                       \"where's\": \"where is\", \"where've\": \"where have\", \"who'll\": \"who will\", \"who'll've\": \"who will have\", \"who's\": \"who is\",\n",
        "                       \"who've\": \"who have\", \"why's\": \"why is\", \"why've\": \"why have\", \"will've\": \"will have\", \"won't\": \"will not\", \"won't've\": \"will not have\",\n",
        "                       \"would've\": \"would have\", \"wouldn't\": \"would not\", \"wouldn't've\": \"would not have\", \"y'all\": \"you all\", \"y'all'd\": \"you all would\", \"y'all'd've\": \"you all would have\",\"y'all're\": \"you all are\",\"y'all've\": \"you all have\",\"you'd\": \"you would\", \"you'd've\": \"you would have\",\n",
        "                       \"you'll\": \"you will\", \"you'll've\": \"you will have\", \"you're\": \"you are\", \"you've\": \"you have\", 'u.s':'america', 'e.g':'for example'}\n",
        "punct = [',', '.', '\"', ':', ')', '(', '-', '!', '?', '|', ';', \"'\", '$', '&', '/', '[', ']', '>', '%', '=', '#', '*', '+', '\\\\', '•',  '~', '@', '£',\n",
        " '·', '_', '{', '}', '©', '^', '®', '`',  '<', '→', '°', '€', '™', '›',  '♥', '←', '×', '§', '″', '′', 'Â', '█', '½', 'à', '…',\n",
        " '“', '★', '”', '–', '●', 'â', '►', '−', '¢', '²', '¬', '░', '¶', '↑', '±', '¿', '▾', '═', '¦', '║', '―', '¥', '▓', '—', '‹', '─',\n",
        " '▒', '：', '¼', '⊕', '▼', '▪', '†', '■', '’', '▀', '¨', '▄', '♫', '☆', 'é', '¯', '♦', '¤', '▲', 'è', '¸', '¾', 'Ã', '⋅', '‘', '∞',\n",
        " '∙', '）', '↓', '、', '│', '（', '»', '，', '♪', '╩', '╚', '³', '・', '╦', '╣', '╔', '╗', '▬', '❤', 'ï', 'Ø', '¹', '≤', '‡', '√', ]\n",
        "punct_mapping = {\"‘\": \"'\", \"₹\": \"e\", \"´\": \"'\", \"°\": \"\", \"€\": \"e\", \"™\": \"tm\", \"√\": \" sqrt \", \"×\": \"x\", \"²\": \"2\", \"—\": \"-\", \"–\": \"-\", \"’\": \"'\", \"_\": \"-\",\n",
        "                 \"`\": \"'\", '“': '\"', '”': '\"', '“': '\"', \"£\": \"e\", '∞': 'infinity', 'θ': 'theta', '÷': '/', 'α': 'alpha', '•': '.', 'à': 'a', '−': '-',\n",
        "                 'β': 'beta', '∅': '', '³': '3', 'π': 'pi', '!':' '}\n",
        "mispell_dict = {'colour': 'color', 'centre': 'center', 'favourite': 'favorite', 'travelling': 'traveling', 'counselling': 'counseling', 'theatre': 'theater',\n",
        "                'cancelled': 'canceled', 'labour': 'labor', 'organisation': 'organization', 'wwii': 'world war 2', 'citicise': 'criticize', 'youtu ': 'youtube ',\n",
        "                'Qoura': 'Quora', 'sallary': 'salary', 'Whta': 'What', 'narcisist': 'narcissist', 'howdo': 'how do', 'whatare': 'what are', 'howcan': 'how can',\n",
        "                'howmuch': 'how much', 'howmany': 'how many', 'whydo': 'why do', 'doI': 'do I', 'theBest': 'the best', 'howdoes': 'how does',\n",
        "                'mastrubation': 'masturbation', 'mastrubate': 'masturbate', \"mastrubating\": 'masturbating', 'pennis': 'penis', 'Etherium': 'Ethereum',\n",
        "                'narcissit': 'narcissist', 'bigdata': 'big data', '2k17': '2017', '2k18': '2018', 'qouta': 'quota', 'exboyfriend': 'ex boyfriend',\n",
        "                'airhostess': 'air hostess', \"whst\": 'what', 'watsapp': 'whatsapp', 'demonitisation': 'demonetization', 'demonitization': 'demonetization',\n",
        "                'demonetisation': 'demonetization'}"
      ]
    },
    {
      "cell_type": "code",
      "source": [
        "def clean_text(text):\n",
        "    '''Clean emoji, Make text lowercase, remove text in square brackets,remove links,remove punctuation\n",
        "    and remove words containing numbers.'''\n",
        "    text = emoji.demojize(text)\n",
        "    text = re.sub(r'\\:(.*?)\\:','',text)\n",
        "    text = str(text).lower()    #Making Text Lowercase\n",
        "    text = re.sub('\\[.*?\\]', '', text)\n",
        "    #The next 2 lines remove html text\n",
        "    text = BeautifulSoup(text, 'lxml').get_text()\n",
        "    text = re.sub('https?://\\S+|www\\.\\S+', '', text)\n",
        "    text = re.sub('<.*?>+', '', text)\n",
        "    text = re.sub('\\n', '', text)\n",
        "    text = re.sub('\\w*\\d\\w*', '', text)\n",
        "    # replacing everything with space except (a-z, A-Z, \".\", \"?\", \"!\", \",\", \"'\")\n",
        "    text = re.sub(r\"[^a-zA-Z?.!,¿']+\", \" \", text)\n",
        "    return text\n",
        "\n",
        "def clean_contractions(text, mapping):\n",
        "    '''Clean contraction using contraction mapping'''\n",
        "    specials = [\"’\", \"‘\", \"´\", \"`\"]\n",
        "    for s in specials:\n",
        "        text = text.replace(s, \"'\")\n",
        "    for word in mapping.keys():\n",
        "        if \"\"+word+\"\" in text:\n",
        "            text = text.replace(\"\"+word+\"\", \"\"+mapping[word]+\"\")\n",
        "    #Remove Punctuations\n",
        "    text = re.sub('[%s]' % re.escape(string.punctuation), '', text)\n",
        "    # creating a space between a word and the punctuation following it\n",
        "    # eg: \"he is a boy.\" => \"he is a boy .\"\n",
        "    text = re.sub(r\"([?.!,¿])\", r\" \\1 \", text)\n",
        "    text = re.sub(r'[\" \"]+', \" \", text)\n",
        "    return text\n",
        "\n",
        "def clean_special_chars(text, punct, mapping):\n",
        "    '''Cleans special characters present(if any)'''\n",
        "    for p in mapping:\n",
        "        text = text.replace(p, mapping[p])\n",
        "\n",
        "    for p in punct:\n",
        "        text = text.replace(p, f' {p} ')\n",
        "\n",
        "    specials = {'\\u200b': ' ', '…': ' ... ', '\\ufeff': '', 'करना': '', 'है': ''}\n",
        "    for s in specials:\n",
        "        text = text.replace(s, specials[s])\n",
        "\n",
        "    return text\n",
        "\n",
        "def correct_spelling(x, dic):\n",
        "    '''Corrects common spelling errors'''\n",
        "    for word in dic.keys():\n",
        "        x = x.replace(word, dic[word])\n",
        "    return x\n",
        "\n",
        "def remove_space(text):\n",
        "    '''Removes awkward spaces'''\n",
        "    #Removes awkward spaces\n",
        "    text = text.strip()\n",
        "    text = text.split()\n",
        "    return \" \".join(text)\n",
        "\n",
        "def text_preprocessing_pipeline(text):\n",
        "    '''Cleaning and parsing the text.'''\n",
        "    text = clean_text(text)\n",
        "    text = clean_contractions(text, contraction_mapping)\n",
        "    text = clean_special_chars(text, punct, punct_mapping)\n",
        "    text = correct_spelling(text, mispell_dict)\n",
        "    text = remove_space(text)\n",
        "    return text"
      ],
      "metadata": {
        "id": "L7ZhnsAa3sdY"
      },
      "execution_count": null,
      "outputs": []
    },
    {
      "cell_type": "code",
      "source": [
        "from sklearn.feature_extraction.text import TfidfVectorizer\n",
        "from sklearn.decomposition import PCA\n",
        "import nltk\n",
        "nltk.download('stopwords')\n",
        "from nltk.corpus import stopwords\n",
        "stop_words = set(stopwords.words('english'))"
      ],
      "metadata": {
        "colab": {
          "base_uri": "https://localhost:8080/"
        },
        "id": "6EVUXMlJ6Ksu",
        "outputId": "d6870a65-9fac-4eaa-85f9-6950bee435fe"
      },
      "execution_count": null,
      "outputs": [
        {
          "output_type": "stream",
          "name": "stderr",
          "text": [
            "[nltk_data] Downloading package stopwords to /root/nltk_data...\n",
            "[nltk_data]   Unzipping corpora/stopwords.zip.\n"
          ]
        }
      ]
    },
    {
      "cell_type": "code",
      "source": [
        "def replace_abbreviations(text, path):\n",
        "    with open(path, 'r') as file:\n",
        "        data = json.load(file)\n",
        "    abbreviation_dict = data[\"abbreviation_dict\"]\n",
        "    words = text.split()\n",
        "    replaced_words = [abbreviation_dict.get(word.upper(), word) for word in words]\n",
        "    replaced_text = ' '.join(replaced_words)\n",
        "    return replaced_text"
      ],
      "metadata": {
        "id": "SahmCtjk6XJi"
      },
      "execution_count": null,
      "outputs": []
    },
    {
      "cell_type": "code",
      "source": [
        "!pip install emoji"
      ],
      "metadata": {
        "colab": {
          "base_uri": "https://localhost:8080/"
        },
        "id": "WDHjJb2OW07c",
        "outputId": "8b278fd3-3818-46d5-a6e6-9161cbc1f8d2"
      },
      "execution_count": null,
      "outputs": [
        {
          "output_type": "stream",
          "name": "stdout",
          "text": [
            "Collecting emoji\n",
            "  Downloading emoji-2.12.1-py3-none-any.whl (431 kB)\n",
            "\u001b[2K     \u001b[90m━━━━━━━━━━━━━━━━━━━━━━━━━━━━━━━━━━━━━━━━\u001b[0m \u001b[32m431.4/431.4 kB\u001b[0m \u001b[31m2.2 MB/s\u001b[0m eta \u001b[36m0:00:00\u001b[0m\n",
            "\u001b[?25hRequirement already satisfied: typing-extensions>=4.7.0 in /usr/local/lib/python3.10/dist-packages (from emoji) (4.11.0)\n",
            "Installing collected packages: emoji\n",
            "Successfully installed emoji-2.12.1\n"
          ]
        }
      ]
    },
    {
      "cell_type": "code",
      "source": [
        "import emoji\n",
        "from bs4 import BeautifulSoup\n",
        "import string\n",
        "import re\n"
      ],
      "metadata": {
        "id": "U3UKSEwh6XxA"
      },
      "execution_count": null,
      "outputs": []
    },
    {
      "cell_type": "code",
      "source": [
        "import os\n",
        "import requests\n",
        "import pandas as pd\n",
        "import numpy as np\n",
        "from datetime import datetime\n",
        "import json\n",
        "import tensorflow as tf\n",
        "from transformers import BertTokenizer, TFBertModel\n",
        "\n",
        "# Load Instagram API configuration\n",
        "#with open('/content/drive/MyDrive/config.json', 'r') as f:\n",
        "    #config = json.load(f)\n",
        "\n",
        "# Load the same tokenizer used during training\n",
        "tokenizer = BertTokenizer.from_pretrained('bert-base-cased')\n",
        "\n",
        "instagram_account_id = \"17841416265505184\"\n",
        "access_token = \"EAAOArR24FGUBOywUfNanZBzWGrnPi4SQGLZBegK0mEqQ60HzgQiu1QyZAMXReD7ZBBRgOTaZBJ0FlvGpZBo7CaliSZAPxZBPdidmnKEOqpTmn96XSyr2PwM2iP2hd7us8hltRGpQrZAQ0ZABTb0iGCMxEJKPJ1mf0opEQvZCMaUWsxtEZBBkObfhTuSZA8i6ngxskrKCIHzoZBaBaZAuQt0XQlpbVZAKsOVFVTAZD\"\n",
        "\n",
        "# Enable memory growth for TensorFlow\n",
        "gpus = tf.config.experimental.list_physical_devices('GPU')\n",
        "if gpus:\n",
        "    try:\n",
        "        for gpu in gpus:\n",
        "            tf.config.experimental.set_memory_growth(gpu, True)\n",
        "    except RuntimeError as e:\n",
        "        print(e)\n",
        "\n",
        "# Register custom objects\n",
        "custom_objects = {\n",
        "    'TFBertModel': TFBertModel\n",
        "}\n",
        "\n",
        "# Load the BERT model from the .h5 file with custom objects\n",
        "model_path = '/content/drive/Shareddrives/PFA/models/bert_model.h5'\n",
        "print(f\"Loading model from {model_path}\")\n",
        "model = tf.keras.models.load_model(model_path, custom_objects=custom_objects)\n",
        "print(\"Model loaded successfully\")\n",
        "\n",
        "tokenizer = BertTokenizer.from_pretrained('bert-base-uncased')\n",
        "print(\"Tokenizer loaded successfully\")\n",
        "\n",
        "def get_user_info_and_posts(username, instagram_account_id, access_token):\n",
        "    ig_params = {\n",
        "        'fields': 'business_discovery.username(' + username + '){media.limit(100){caption}}',\n",
        "        'access_token': access_token\n",
        "    }\n",
        "    endpoint = f\"https://graph.facebook.com/v19.0/{instagram_account_id}\"\n",
        "    response = requests.get(endpoint, params=ig_params)\n",
        "    return response.json()\n",
        "\n",
        "def fetch_instagram_captions(username, instagram_account_id, access_token):\n",
        "    print(f\"Fetching Instagram captions for user: {username}\")\n",
        "    data = get_user_info_and_posts(username, instagram_account_id, access_token)\n",
        "\n",
        "    if 'business_discovery' not in data:\n",
        "        print(\"Failed to fetch captions. Response:\", data)\n",
        "        return []\n",
        "\n",
        "    business_discovery = data['business_discovery']\n",
        "    captions = [media['caption'] for media in business_discovery['media']['data'] if 'caption' in media]\n",
        "    print(f\"Fetched {len(captions)} captions\")\n",
        "    concatenated_caption = \" \".join(captions)\n",
        "    #print(\"Concatenated Captions:\", concatenated_caption)\n",
        "\n",
        "    return concatenated_caption\n",
        "\n",
        "def prepare_data(input_text, tokenizer):\n",
        "    #print(\"-----------------before preprocessing :\",input_text)\n",
        "    input_text = text_preprocessing_pipeline(input_text)\n",
        "    token = tokenizer.encode_plus(\n",
        "        input_text,\n",
        "        max_length=256,\n",
        "        truncation=True,\n",
        "        padding='max_length',\n",
        "        add_special_tokens=True,\n",
        "        return_tensors='tf'\n",
        "    )\n",
        "    return {\n",
        "        'input_ids': tf.cast(token.input_ids, tf.int32),\n",
        "        'attention_mask': tf.cast(token.attention_mask, tf.int32)\n",
        "    }\n",
        "\n",
        "#def filter_invalid_tokens(token_ids, max_token_id):\n",
        "    #valid_token_ids = tf.where(token_ids < max_token_id, token_ids, tf.zeros_like(token_ids))\n",
        "    #return valid_token_ids\n",
        "\n",
        "def filter_invalid_tokens(token_ids, max_token_id):\n",
        "    # Ensure token_ids greater than max_token_id are set to max_token_id\n",
        "    valid_token_ids = tf.minimum(token_ids, max_token_id)\n",
        "    return valid_token_ids\n",
        "\n",
        "#def filter_invalid_tokens(token_ids, max_token_id):\n",
        "    # Create a mask to identify valid tokens\n",
        "    #valid_mask = token_ids < max_token_id\n",
        "\n",
        "    # Filter out invalid tokens using the mask\n",
        "    #valid_token_ids = tf.boolean_mask(token_ids, valid_mask)\n",
        "\n",
        "    #return valid_token_ids\n",
        "\n",
        "#def filter_invalid_tokens3(token_ids, attention_mask, max_token_id):\n",
        "    # Create a mask to identify valid tokens\n",
        "    #valid_mask = token_ids < max_token_id\n",
        "\n",
        "    # Filter out invalid tokens using the mask\n",
        "    #valid_token_ids = tf.boolean_mask(token_ids, valid_mask)\n",
        "    #valid_attention_mask = tf.boolean_mask(attention_mask, valid_mask)\n",
        "\n",
        "    #return valid_token_ids, valid_attention_mask\n",
        "\n",
        "def predict_interests(caption):\n",
        "    print(\"Preprocessing and tokenizing captions\")\n",
        "    max_length = 256  # Ensure this matches the input shape expected by the model\n",
        "\n",
        "    # Preprocess and tokenize captions\n",
        "    tokenized_data = prepare_data(caption, tokenizer)\n",
        "\n",
        "    # Extract input_ids and attention_masks\n",
        "    input_ids = tokenized_data['input_ids']\n",
        "    attention_mask = tokenized_data['attention_mask']\n",
        "\n",
        "    # Filter out invalid token IDs\n",
        "    #max_token_id = tokenizer.vocab_size\n",
        "    #print(f\"Tokenizer vocab size: {max_token_id}\")\n",
        "    input_ids = filter_invalid_tokens(input_ids, 28995)\n",
        "    # Filter out invalid token IDs\n",
        "    #input_ids, attention_mask = filter_invalid_tokens(input_ids[0], attention_mask[0], 28995)\n",
        "\n",
        "    print(\"Generating predictions\")\n",
        "    outputs = model.predict([input_ids, attention_mask])\n",
        "    print(\"Predictions generated successfully\")\n",
        "\n",
        "    return outputs\n",
        "\n",
        "def analyze_predictions(predictions, class_names):\n",
        "    # Threshold the predictions\n",
        "    thresholded_predictions = np.where(predictions > 0.5, 1, 0)\n",
        "\n",
        "    # Identify classes where at least one caption has a prediction value greater than 0.5\n",
        "    significant_classes = {class_names[i] for i in range(len(class_names)) if np.any(thresholded_predictions[:, i] == 1)}\n",
        "\n",
        "    return significant_classes\n",
        "\n",
        "def main(username):\n",
        "    # Fetch captions from Instagram and concatenate them\n",
        "    concatenated_caption = fetch_instagram_captions(username, instagram_account_id, access_token)\n",
        "\n",
        "    if not concatenated_caption:\n",
        "        print(\"Failed to fetch captions or no captions found\")\n",
        "        return\n",
        "\n",
        "    # Define the classes\n",
        "    classes = ['Business and Industry', 'Entertainment', 'Outdoors', 'Technology', 'family and relationships', 'fitness and wellness', 'food and drink', 'hobbies and activities', 'shopping and fashion', 'sports']\n",
        "\n",
        "    # Predict interests using BERT model\n",
        "    predictions = predict_interests(concatenated_caption)\n",
        "\n",
        "    # Analyze predictions\n",
        "    #significant_classes = analyze_predictions(predictions, classes)\n",
        "    significant_classes = analyze_predictions(predictions,classes)\n",
        "\n",
        "    # Print  classes\n",
        "    print(\"classes based on predictions:\")\n",
        "    for class_name in significant_classes:\n",
        "        print(class_name)\n",
        "\n",
        "    # Print predictions for each class\n",
        "    print(\"Predictions for each class:\")\n",
        "    for i, class_name in enumerate(classes):\n",
        "        print(f\"{class_name}: {predictions[0][i]}\")\n",
        "\n",
        "if __name__ == '__main__':\n",
        "    # Replace 'instagram_username' with the actual Instagram username you want to fetch\n",
        "    username = \"cristiano\"\n",
        "    main(username)"
      ],
      "metadata": {
        "colab": {
          "base_uri": "https://localhost:8080/"
        },
        "id": "USVrQG5c61ik",
        "outputId": "f57857d8-8c6c-46cb-ce3d-4b9cd05ce9ac"
      },
      "execution_count": 37,
      "outputs": [
        {
          "output_type": "stream",
          "name": "stdout",
          "text": [
            "Loading model from /content/drive/Shareddrives/PFA/models/bert_model.h5\n",
            "Model loaded successfully\n",
            "Tokenizer loaded successfully\n",
            "Fetching Instagram captions for user: cristiano\n",
            "Fetched 100 captions\n",
            "Preprocessing and tokenizing captions\n",
            "Generating predictions\n",
            "1/1 [==============================] - 13s 13s/step\n",
            "Predictions generated successfully\n",
            "classes based on predictions:\n",
            "Entertainment\n",
            "Predictions for each class:\n",
            "Business and Industry: 0.006536905188113451\n",
            "Entertainment: 0.5051283240318298\n",
            "Outdoors: 0.002721278928220272\n",
            "Technology: 0.006915077101439238\n",
            "family and relationships: 0.01240477990359068\n",
            "fitness and wellness: 0.0017742604250088334\n",
            "food and drink: 0.00018333127081859857\n",
            "hobbies and activities: 0.17224127054214478\n",
            "shopping and fashion: 0.0016286451136693358\n",
            "sports: 0.004729119129478931\n"
          ]
        }
      ]
    },
    {
      "cell_type": "code",
      "source": [],
      "metadata": {
        "id": "3se9XED6Yfff"
      },
      "execution_count": null,
      "outputs": []
    }
  ]
}